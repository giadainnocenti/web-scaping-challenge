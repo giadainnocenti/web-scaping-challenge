{
 "cells": [
  {
   "cell_type": "code",
   "execution_count": 1,
   "metadata": {},
   "outputs": [],
   "source": [
    "from bs4 import BeautifulSoup as bs\n",
    "from splinter import Browser\n",
    "import pandas as pd\n",
    "#import os\n",
    "#import time\n",
    "import requests\n",
    "#import warnings\n",
    "#warnings.filterwarnings('ignore')"
   ]
  },
  {
   "cell_type": "code",
   "execution_count": 2,
   "metadata": {
    "scrolled": false
   },
   "outputs": [
    {
     "name": "stdout",
     "output_type": "stream",
     "text": [
      "Yes, the official website was found!\n",
      "Mars Now\n",
      "Now uncocooned from its protective carbon-fiber shield, the helicopter is being readied for its next steps.  \n"
     ]
    }
   ],
   "source": [
    "with Browser('chrome') as browser:\n",
    "    # Visit URL\n",
    "    url_nasa = 'https://mars.nasa.gov/news/'\n",
    "    browser.visit(url_nasa)\n",
    "    #checking if the word Mars is present anywhere on the homepage to verify we found the website.\n",
    "    if browser.is_text_present('Mars'):\n",
    "        print(\"Yes, the official website was found!\")\n",
    "    else:\n",
    "        print(\"No, it wasn't found... We need to improve our SEO techniques\")\n",
    "\n",
    "\n",
    "    #creating a BEautifulSoup object\n",
    "    soup = bs(browser.html, 'html.parser')\n",
    "    #reading the latest News Title\n",
    "    news_title = soup.find_all('div', class_='content_title')[0].text\n",
    "    #reading the latest news body\n",
    "    paragraph = soup.find_all('div', class_=\"article_teaser_body\")[0].text\n",
    "    #printing the title and body just to see them and check that they are correct\n",
    "    print(f'{news_title}\\n{paragraph}')\n",
    "    \n",
    "    browser.quit()"
   ]
  },
  {
   "cell_type": "code",
   "execution_count": 24,
   "metadata": {},
   "outputs": [
    {
     "name": "stdout",
     "output_type": "stream",
     "text": [
      "Yes, the official website was found!\n",
      "https://data-class-jpl-space.s3.amazonaws.com/JPL_Space/image/featured/mars3.jpg\n"
     ]
    }
   ],
   "source": [
    "with Browser('chrome') as browser:\n",
    "    # Visit URL\n",
    "    url_jpl = 'https://data-class-jpl-space.s3.amazonaws.com/JPL_Space/index.html'\n",
    "    browser.visit(url_jpl)\n",
    "    #checking if the word Mars is present anywhere on the homepage to verify we found the website.\n",
    "    if browser.is_text_present('Mars'):\n",
    "        print(\"Yes, the official website was found!\")\n",
    "    else:\n",
    "        print(\"No, it wasn't found... We need to improve our SEO techniques\")\n",
    "    #clicking on the button FULL IMAGE to see the full image featured this month  class=\"btn btn-outline-light\"\n",
    "    browser.links.find_by_partial_text('FULL IMAGE').click()\n",
    "    #scraping the page with BS\n",
    "    soup = bs(browser.html, 'html.parser')\n",
    "    #saving the image url, sometimes it does not find mars3.jpg I am not sure why\n",
    "    featured_image_url = url_jpl.\\\n",
    "        replace(\"index.html\", soup.find(class_=\"fancybox-image\")[\"src\"]) \n",
    "    print(featured_image_url)"
   ]
  },
  {
   "cell_type": "code",
   "execution_count": null,
   "metadata": {},
   "outputs": [],
   "source": []
  },
  {
   "cell_type": "code",
   "execution_count": null,
   "metadata": {},
   "outputs": [],
   "source": []
  }
 ],
 "metadata": {
  "kernelspec": {
   "display_name": "Python 3",
   "language": "python",
   "name": "python3"
  },
  "language_info": {
   "codemirror_mode": {
    "name": "ipython",
    "version": 3
   },
   "file_extension": ".py",
   "mimetype": "text/x-python",
   "name": "python",
   "nbconvert_exporter": "python",
   "pygments_lexer": "ipython3",
   "version": "3.7.6"
  }
 },
 "nbformat": 4,
 "nbformat_minor": 4
}
